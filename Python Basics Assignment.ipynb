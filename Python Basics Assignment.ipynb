{
 "cells": [
  {
   "cell_type": "markdown",
   "id": "bfea0595-b72e-4516-9159-5e5b78b0225b",
   "metadata": {},
   "source": [
    "Q1. Using Python script as a calculator\n",
    "Create the variables n, r, p and assign them values 10, 5, and 100 respectively. Then\n",
    "evaluate the following expression in the Python console.\n",
    "𝐴 = 𝑝 (1 + 𝑟/ 100)n\n",
    "a. 100\n",
    "b. 162.89 (Correct answer)\n",
    "c. 189\n",
    "d. None of the above\n",
    "\n",
    "\n",
    "Q2. In a given string format operation, how will you print the given string.\n",
    "A = 10\n",
    "B = 20\n",
    "Str = \"There are {} students in the class, with {} who play at least one sport.\"\n",
    "a. print(string.format(a,b))\n",
    "b. print(string+a+b)\n",
    "c. print(string.format(b,a)) (Correct answer)\n",
    "d. None of the above\n",
    "\n",
    "\n",
    "Q3. In a given sample string, How do you print a double quoted string in between a\n",
    "regular\n",
    "string using the escape character?\n",
    "Sample output = It goes without saying, “Time is Money”, and none can deny it.\n",
    "a. print(“It goes without saying, \\“Time is Money\\”, and none can deny it.”) (Correct answer)\n",
    "b. print(“It goes without saying, \\Time is Money\\, and none can deny it.”)\n",
    "c. print(“It goes without saying” + “Time is Money” + “and none can deny it.”)\n",
    "d. None of the above.\n",
    "\n",
    "\n",
    "Q4. What will be the output of the following code?\n",
    "x = lambda a,b: a//b\n",
    "x(10,3)\n",
    "a. 3.3333333333\n",
    "b. 3 (Correct answer)\n",
    "c. 30\n",
    "d. 1000\n",
    "\n",
    "\n",
    "Q5. What will be the output of the following code?\n",
    "A = 10\n",
    "B = 12\n",
    "print(\"Smaller\") if A == B else print(\"Greater\") if A < B else print(\"True\")\n",
    "a. True\n",
    "b. Smaller\n",
    "c. Greater (correct answer)\n",
    "d. None of the above\n",
    "\n",
    "\n",
    "Q6. What will be the output of the following code?\n",
    "a. [2 7 3 5 4 6]\n",
    "b. TypeError\n",
    "c. NameError: name 'numpy' is not defined\n",
    "d. None of the above (Correct answer)\n",
    "\n",
    "\n",
    "Q7. Create a string called ‘string’ with the value as “Machine Learning”. Which code(s)\n",
    "is/are appropriate to slice the substring “Learn”?\n",
    "a. string[slice(13,8,1)] (Correct answer)\n",
    "b. string[slice(1,8,1)]\n",
    "c. string[8:14]\n",
    "d. string[slice(8,13,1)]\n",
    "\n",
    "\n",
    "Q8. Create a sequence of numbers from 10 to 25 and increment by 4. What is the index\n",
    "of the\n",
    "value 18?\n",
    "a. 3\n",
    "b. 2 Correct answer\n",
    "c. 0\n",
    "d. 1\n",
    "\n",
    "\n",
    "Q9. Which of the following is true with respect to the below codes?\n",
    "a. num1 = num2\n",
    "b. num1 ≠ num2\n",
    "c. num1 < num2\n",
    "d. num1 > num2\n",
    "Iam getting a name error when running the code. Please change the originalcode accordingly\n",
    "\n",
    "Q10.A Python NameError exception is raised when: -\n",
    "a. Trying to access a variable which has not been defined (Correct answer)\n",
    "b. Trying to access a key in a dictionary that does not exist\n",
    "c. Accessing a column with misspelled column name\n",
    "d. Accessing the function from a module that has not been imported\n",
    "\n",
    "\n",
    "Q11.What type of exception will be raised for the code given below?\n",
    "a. NameError\n",
    "b. KeyError\n",
    "c. ValueError (Correct answer)\n",
    "d. AttributeError\n",
    "\n",
    "\n",
    "Q12.A FileNotFoundError exception is raised by operating system errors when: -\n",
    "a. Trying to create a file or directory which already exists\n",
    "b. A file or directory is requested but does not exist in the working directory (Correct answer)\n",
    "c. Trying to run an operation without the adequate access rights\n",
    "d. A directory operation, os.listdir() is requested on something which is not a\n",
    "directory\n",
    "\n",
    "\n",
    "Q13.Consider a variable Z. The value of Z is \"ID-5632\". Data type of Z is: -\n",
    "a. Complex\n",
    "b. Character (Correct answer)\n",
    "c. Integer\n",
    "d. Boolean\n",
    "\n",
    "\n",
    "Q14.Which of the following variable(s) are character data type?\n",
    "a. K= “4”\n",
    "b. J= “Welcome”\n",
    "c. L= “?”\n",
    "d. All of the above (Correct answer)\n",
    "\n",
    "\n",
    "Q15.Choose the symbol/s that does not have the ability to convert any values to string?\n",
    "a. ( )\n",
    "b. “ ”\n",
    "c. {}\n",
    "d. # Correct answer)\n",
    "\n",
    "\n",
    "Q16.Create a dictionary ‘Country’ that maps the following countries to their capitals\n",
    "respectively:\n",
    "Country India China Japan Qatar France\n",
    "State Delhi Beijing Tokyo Doha Marseilles\n",
    "Find 2 commands to replace “Marseilles” with “Paris” is:\n",
    "\n",
    "\n",
    "Q17. Create the tuples given below\n",
    "tuple_1 = (1,5,6,7,8)\n",
    "tuple_2 = (8,9,4)\n",
    "Identify which of the following code does not work on a tuple.\n",
    "a. sum(tuple_1)\n",
    "b. len(tuple_2)\n",
    "c. tuple_2 + tuple_1\n",
    "d. tuple_1[3] = 45 (Correctanswer)\n",
    "\n",
    "\n",
    "Q18. How many elements in the following data structure? --- Answer- 6\n",
    "\n",
    "\n",
    "Q19.Write a function which finds all pythagorean triplets of triangles whose sides are no\n",
    "greater than a natural number N"
   ]
  },
  {
   "cell_type": "code",
   "execution_count": 2,
   "id": "fe89e39c-5cd0-4750-9360-07aa49ebbeed",
   "metadata": {},
   "outputs": [
    {
     "name": "stdout",
     "output_type": "stream",
     "text": [
      "162.8894626777442\n"
     ]
    }
   ],
   "source": [
    "p = 100\n",
    "r = 5\n",
    "n = 10\n",
    "A = p * (1 + r / 100) ** n\n",
    "print(A)"
   ]
  },
  {
   "cell_type": "code",
   "execution_count": 4,
   "id": "1b57a39e-6246-4f46-bfdb-3283f0f0c7fb",
   "metadata": {},
   "outputs": [
    {
     "name": "stdout",
     "output_type": "stream",
     "text": [
      "There are 20 students in the class, with 10 who play at least one sport.\n"
     ]
    }
   ],
   "source": [
    "A = 10\n",
    "B = 20\n",
    "string = \"There are {} students in the class, with {} who play at least one sport.\"\n",
    "print(string.format(B, A))\n"
   ]
  },
  {
   "cell_type": "code",
   "execution_count": 6,
   "id": "f44415de-0264-4721-b8f7-78b72ed353af",
   "metadata": {},
   "outputs": [
    {
     "name": "stdout",
     "output_type": "stream",
     "text": [
      "It goes without saying, \"Time is Money\", and none can deny it.\n"
     ]
    }
   ],
   "source": [
    "print(\"It goes without saying, \\\"Time is Money\\\", and none can deny it.\")\n"
   ]
  },
  {
   "cell_type": "code",
   "execution_count": 8,
   "id": "3c0b0157-79a3-40c6-8d41-1c57a4583270",
   "metadata": {},
   "outputs": [
    {
     "data": {
      "text/plain": [
       "3"
      ]
     },
     "execution_count": 8,
     "metadata": {},
     "output_type": "execute_result"
    }
   ],
   "source": [
    "x = lambda a,b: a//b\n",
    "x(10,3)"
   ]
  },
  {
   "cell_type": "code",
   "execution_count": 10,
   "id": "34bc714c-5eb9-4529-9da4-d50b7c633da4",
   "metadata": {},
   "outputs": [
    {
     "name": "stdout",
     "output_type": "stream",
     "text": [
      "Greater\n"
     ]
    }
   ],
   "source": [
    "A = 10\n",
    "B = 12\n",
    "print(\"Smaller\") if A == B else print(\"Greater\") if A < B else print(\"True\")\n"
   ]
  },
  {
   "cell_type": "code",
   "execution_count": 12,
   "id": "c876c459-3041-4397-b1eb-213429a0ae6b",
   "metadata": {},
   "outputs": [
    {
     "ename": "SyntaxError",
     "evalue": "invalid syntax (1931933604.py, line 1)",
     "output_type": "error",
     "traceback": [
      "\u001b[1;36m  Cell \u001b[1;32mIn[12], line 1\u001b[1;36m\u001b[0m\n\u001b[1;33m    Import os\u001b[0m\n\u001b[1;37m           ^\u001b[0m\n\u001b[1;31mSyntaxError\u001b[0m\u001b[1;31m:\u001b[0m invalid syntax\n"
     ]
    }
   ],
   "source": [
    "Import os\n",
    "import numpy as np \n",
    "my_list1=[2,7,3,5,4,6]\n",
    "print (my_list1)\n",
    "arr_1= numpy.(my_list, dtype = int)\n",
    "print(arr_1)"
   ]
  },
  {
   "cell_type": "code",
   "execution_count": 20,
   "id": "538e645c-1288-4d78-95b8-7f6564ea73b6",
   "metadata": {},
   "outputs": [
    {
     "ename": "NameError",
     "evalue": "name 'num1' is not defined",
     "output_type": "error",
     "traceback": [
      "\u001b[1;31m---------------------------------------------------------------------------\u001b[0m",
      "\u001b[1;31mNameError\u001b[0m                                 Traceback (most recent call last)",
      "Cell \u001b[1;32mIn[20], line 3\u001b[0m\n\u001b[0;32m      1\u001b[0m num\u001b[38;5;241m=\u001b[39m \u001b[38;5;241m5\u001b[39m\u001b[38;5;241m*\u001b[39m\u001b[38;5;241m*\u001b[39m\u001b[38;5;241m4\u001b[39m\n\u001b[0;32m      2\u001b[0m num2\u001b[38;5;241m=\u001b[39m \u001b[38;5;28mpow\u001b[39m(\u001b[38;5;241m5\u001b[39m,\u001b[38;5;241m4\u001b[39m)\n\u001b[1;32m----> 3\u001b[0m \u001b[38;5;28mprint\u001b[39m(num1, num2)\n",
      "\u001b[1;31mNameError\u001b[0m: name 'num1' is not defined"
     ]
    }
   ],
   "source": [
    "num= 5**4\n",
    "num2= pow(5,4)\n",
    "print(num1, num2)"
   ]
  },
  {
   "cell_type": "code",
   "execution_count": 23,
   "id": "b402f87e-1b6c-4c86-886b-c5e95b6a8d5a",
   "metadata": {},
   "outputs": [
    {
     "ename": "ValueError",
     "evalue": "invalid literal for int() with base 10: 'string'",
     "output_type": "error",
     "traceback": [
      "\u001b[1;31m---------------------------------------------------------------------------\u001b[0m",
      "\u001b[1;31mValueError\u001b[0m                                Traceback (most recent call last)",
      "Cell \u001b[1;32mIn[23], line 2\u001b[0m\n\u001b[0;32m      1\u001b[0m x\u001b[38;5;241m=\u001b[39m \u001b[38;5;124m\"\u001b[39m\u001b[38;5;124mstring\u001b[39m\u001b[38;5;124m\"\u001b[39m\n\u001b[1;32m----> 2\u001b[0m \u001b[38;5;28mint\u001b[39m(x)\n",
      "\u001b[1;31mValueError\u001b[0m: invalid literal for int() with base 10: 'string'"
     ]
    }
   ],
   "source": [
    "x= \"string\"\n",
    "int(x)"
   ]
  },
  {
   "cell_type": "code",
   "execution_count": 35,
   "id": "1f2ee06a-0163-4eb4-932d-fbfefe0864fc",
   "metadata": {},
   "outputs": [],
   "source": [
    "Country = {\"India\": \"Delhi\", \"China\": \"Beijing\", \"Japan\": \"Tokyo\", \"Qatar\": \"Doha\", \"France\": \"Marseilles\"}\n",
    "Country[\"France\"] = \"Paris\"\n",
    "# or\n",
    "Country.update({\"France\": \"Paris\"})\n",
    "\n"
   ]
  },
  {
   "cell_type": "code",
   "execution_count": 37,
   "id": "053e4030-8531-4cae-a6c3-0f77c86e371a",
   "metadata": {},
   "outputs": [
    {
     "name": "stdout",
     "output_type": "stream",
     "text": [
      "6\n"
     ]
    }
   ],
   "source": [
    "S = {1, 2, 3, 4, 4, 4, 5, 6}\n",
    "print(len(S)) "
   ]
  },
  {
   "cell_type": "code",
   "execution_count": 39,
   "id": "e455252b-5766-42f3-8f67-c9cdf18f2523",
   "metadata": {},
   "outputs": [
    {
     "name": "stdout",
     "output_type": "stream",
     "text": [
      "[(3, 4, 5), (5, 12, 13), (6, 8, 10), (8, 15, 17), (9, 12, 15), (12, 16, 20)]\n"
     ]
    }
   ],
   "source": [
    "#q19\n",
    "\n",
    "def pythagorean_triplets(N):\n",
    "    triplets = []\n",
    "    for a in range(1, N+1):\n",
    "        for b in range(a, N+1):\n",
    "            for c in range(b, N+1):\n",
    "                if a**2 + b**2 == c**2:\n",
    "                    triplets.append((a, b, c))\n",
    "    return triplets\n",
    "\n",
    "print(pythagorean_triplets(20))"
   ]
  },
  {
   "cell_type": "code",
   "execution_count": null,
   "id": "a1a0968a-d262-4644-82a4-4b52a8685b61",
   "metadata": {},
   "outputs": [],
   "source": []
  }
 ],
 "metadata": {
  "kernelspec": {
   "display_name": "Python 3 (ipykernel)",
   "language": "python",
   "name": "python3"
  },
  "language_info": {
   "codemirror_mode": {
    "name": "ipython",
    "version": 3
   },
   "file_extension": ".py",
   "mimetype": "text/x-python",
   "name": "python",
   "nbconvert_exporter": "python",
   "pygments_lexer": "ipython3",
   "version": "3.12.4"
  }
 },
 "nbformat": 4,
 "nbformat_minor": 5
}
