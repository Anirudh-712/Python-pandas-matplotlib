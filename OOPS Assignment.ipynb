{
 "cells": [
  {
   "cell_type": "markdown",
   "id": "cc5fd6b6-0f7b-4271-a8d8-61259d0971af",
   "metadata": {},
   "source": [
    "OOP'S ASSIGNMENT"
   ]
  },
  {
   "cell_type": "markdown",
   "id": "10810c96-e437-488d-841c-8fda4c69e91e",
   "metadata": {},
   "source": [
    "q1) Q1. Write a Python program to demonstrate multiple inheritance.\r\n",
    "1. Employee class has 3 data members EmployeeID, Gender (String), Salary and\r\n",
    "PerformanceRating(Out of 5) of type int. It has a get() function to get these details from\r\n",
    "the user.\r\n",
    "2. JoiningDetail class has a data member DateOfJoining of type Date and a function\r\n",
    "getDoJ to get the Date of joining of employees.\r\n",
    "3. Information Class uses the marks from Employee class and the DateOfJoining date\r\n",
    "from the JoiningDetail class to calculate the top 3 Employees based on their Ratings\r\n",
    "and then Display, using readData, all the details on these employees in Ascending\r\n",
    "order of their Date Of Joining."
   ]
  },
  {
   "cell_type": "code",
   "execution_count": 10,
   "id": "4e48ee02-864e-4bd9-83d8-52dabd05b139",
   "metadata": {},
   "outputs": [],
   "source": [
    "from datetime import datetime\n",
    "\n",
    "class Employee:\n",
    "    def __init__(self):\n",
    "        self.EmployeeID = \"\"\n",
    "        self.Gender = \"\"\n",
    "        self.Salary = 0\n",
    "        self.PerformanceRating = 0\n",
    "\n",
    "    def get(self):\n",
    "        self.EmployeeID = input(\"Enter Employee ID: \")\n",
    "        self.Gender = input(\"Enter Gender: \")\n",
    "        self.Salary = int(input(\"Enter Salary: \"))\n",
    "        self.PerformanceRating = int(input(\"Enter Performance Rating (out of 5): \"))\n",
    "\n",
    "class JoiningDetail:\n",
    "    def __init__(self):\n",
    "        self.DateOfJoining = None\n",
    "\n",
    "    def getDoJ(self):\n",
    "        date_input = input(\"Enter Date of Joining (YYYY-MM-DD): \")\n",
    "        self.DateOfJoining = datetime.strptime(date_input, \"%Y-%m-%d\")\n",
    "\n",
    "class Information(Employee, JoiningDetail):\n",
    "    def __init__(self):\n",
    "        Employee.__init__(self)\n",
    "        JoiningDetail.__init__(self)\n",
    "\n",
    "    @staticmethod\n",
    "    def display_top_employees(employees):\n",
    "        sorted_employees = sorted(employees, key=lambda x: (-x.PerformanceRating, x.DateOfJoining))\n",
    "        print(\"\\nTop 3 Employees (based on ratings):\")\n",
    "        for emp in sorted_employees[:3]:\n",
    "            print(f\"ID: {emp.EmployeeID}, Gender: {emp.Gender}, Salary: {emp.Salary}, Rating: {emp.PerformanceRating}, DoJ: {emp.DateOfJoining.date()}\")\n",
    "\n",
    "\n",
    "# Main execution\n",
    "employees = []\n",
    "n = int(input(\"Enter number of employees: \"))\n",
    "for _ in range(n):\n",
    "    info = Information()\n",
    "    info.get()\n",
    "    info.getDoJ()\n",
    "    employees.append(info)\n",
    "\n",
    "Information.display_top_employees(employees)\n",
    "\n",
    "\n"
   ]
  },
  {
   "cell_type": "markdown",
   "id": "cf151d09-dcac-4359-8b58-f2f30f72a675",
   "metadata": {},
   "source": [
    "Q2) Write a Python program to demonstrate Polymorphism.\r\n",
    "1. Class Vehicle with a parameterized function Fare, that takes input value as fare and\r\n",
    "returns it to calling Objects.\r\n",
    "2. Create five separate variables Bus, Car, Train, Truck and Ship that call the Fare\r\n",
    "function.\r\n",
    "3. Use a third variable TotalFare to store the sum of fare for each Vehicle Type.\r\n",
    "4. Print the TotalFare."
   ]
  },
  {
   "cell_type": "code",
   "execution_count": 14,
   "id": "50da18ae-75d0-4f8e-bd47-97bee0a9a895",
   "metadata": {},
   "outputs": [
    {
     "name": "stdout",
     "output_type": "stream",
     "text": [
      "Total Fare: 450\n"
     ]
    }
   ],
   "source": [
    "class Vehicle:\n",
    "    def Fare(self, fare):\n",
    "        return fare\n",
    "\n",
    "# Creating objects\n",
    "Bus = Vehicle().Fare(50)\n",
    "Car = Vehicle().Fare(20)\n",
    "Train = Vehicle().Fare(80)\n",
    "Truck = Vehicle().Fare(100)\n",
    "Ship = Vehicle().Fare(200)\n",
    "\n",
    "# Calculating TotalFare\n",
    "TotalFare = Bus + Car + Train + Truck + Ship\n",
    "print(f\"Total Fare: {TotalFare}\")\n"
   ]
  },
  {
   "cell_type": "markdown",
   "id": "c940bbb9-12d8-4552-ad7d-79d98e29c4f5",
   "metadata": {},
   "source": [
    "Q3. Consider an ongoing test cricket series. Following are the names of the players and their\r\n",
    "scores in the test1 and 2 \r\n",
    "Test Match :\r\n",
    "Dhoni : 56 , Balaji : 94\r\n",
    "Test Match 2 :\r\n",
    "Balaji : 80 , Dravid :\n",
    " 105\r\n",
    "Calculate the highest number of runs scored by an individual cricketer in both of the mat\n",
    "ches.\r\n",
    "Create a python function Max_Score (M) that reads a dictionary M that recognizes the player\r\n",
    "with the highest total score. This function will return ( Top player , Total S\n",
    "\n",
    "ore ) . You can\r\n",
    "consider the Top player as String who is the highest scorer and Top score as I\n",
    "nteger .\r\n",
    "Input : Max_Score({‘test1’:{‘Dhoni’:56, ‘Balaji : 85}, ‘test2’:{‘Dhoni’ 87, ‘Balaji’’:200}})\r\n",
    "Output : (‘Balaji ‘ , 200)"
   ]
  },
  {
   "cell_type": "code",
   "execution_count": 21,
   "id": "6e74e815-3377-4bcf-b076-6554074fdd0f",
   "metadata": {},
   "outputs": [
    {
     "name": "stdout",
     "output_type": "stream",
     "text": [
      "('Balaji', 285)\n"
     ]
    }
   ],
   "source": [
    "def Max_Score(matches):\n",
    "    total_scores = {}\n",
    "    for test in matches.values():\n",
    "        for player, score in test.items():\n",
    "            total_scores[player] = total_scores.get(player, 0) + score\n",
    "    top_player = max(total_scores, key=total_scores.get)\n",
    "    return top_player, total_scores[top_player]\n",
    "\n",
    "matches = {'test1': {'Dhoni': 56, 'Balaji': 85}, 'test2': {'Dhoni': 87, 'Balaji': 200}}\n",
    "print(Max_Score(matches))\n",
    "\n"
   ]
  },
  {
   "cell_type": "markdown",
   "id": "17722ddb-21e2-4401-bae3-06ae636b7c9d",
   "metadata": {},
   "source": [
    "Q4. Create a simple Card game in which there are 8 cards which are randomly chosen from a\r\n",
    "deck. The first card is shown face up. The game asks the player to predict whether the next card\r\n",
    "in the selection will have a higher or lower value than the currently showing card.\r\n",
    "For example, say the card that’s shown is a 3. The player chooses “higher,” and the next card is\r\n",
    "shown. If that card has a higher value, the player is correct. In this example, if the player had\r\n",
    "chosen “lower,” they would have been incorrect. If the player guesses correctly, they get 20\r\n",
    "points. If they choose incorrectly, they lose 15 points. If the next card to be turned over has the\r\n",
    "same value as the previous card, the player is incorrect."
   ]
  },
  {
   "cell_type": "code",
   "execution_count": null,
   "id": "7d10ae48-f39c-4a0d-9b33-9563d6b6010c",
   "metadata": {},
   "outputs": [],
   "source": [
    "import random\n",
    "\n",
    "def card_game():\n",
    "    deck = list(range(1, 14)) * 4\n",
    "    random.shuffle(deck)\n",
    "    points = 0\n",
    "\n",
    "    current_card = deck.pop()\n",
    "    print(f\"Starting card: {current_card}\")\n",
    "\n",
    "    while deck:\n",
    "        guess = input(\"Will the next card be higher or lower? (h/l): \").lower()\n",
    "        next_card = deck.pop()\n",
    "        print(f\"Next card: {next_card}\")\n",
    "\n",
    "        if (guess == 'h' and next_card > current_card) or (guess == 'l' and next_card < current_card):\n",
    "            points += 20\n",
    "            print(\"Correct!\")\n",
    "        else:\n",
    "            points -= 15\n",
    "            print(\"Incorrect!\")\n",
    "\n",
    "        current_card = next_card\n",
    "        print(f\"Current score: {points}\")\n",
    "\n",
    "    print(f\"Game over! Final score: {points}\")\n",
    "\n",
    "card_game()"
   ]
  },
  {
   "cell_type": "markdown",
   "id": "2918bf2d-c6dc-42f2-8951-69ab226672ad",
   "metadata": {},
   "source": [
    "Q5. Create an empty dictionary called Car_0 . Then fill the dictionary with Keys : color , speed\r\n",
    ", X_position and Y_position.\r\n",
    "car_0 = {'x_position': 10, 'y_position': 72, 'speed': 'medium'} .\r\n",
    "a) If the speed is slow the coordinates of the X_pos get incremented by 2.\r\n",
    "b) If the speed is Medium the coordinates of the X_pos gets incremented by 9\r\n",
    "c) Now if the speed is Fast the coordinates of the X_pos gets incremented by 22.\r\n",
    "Print the modified dictionary."
   ]
  },
  {
   "cell_type": "code",
   "execution_count": null,
   "id": "8f751d7c-962c-48ed-abb4-d2063df25ee1",
   "metadata": {},
   "outputs": [],
   "source": [
    "car_0 = {'x_position': 10, 'y_position': 72, 'speed': 'medium'}\n",
    "if car_0['speed'] == 'slow':\n",
    "    car_0['x_position'] += 2\n",
    "elif car_0['speed'] == 'medium':\n",
    "    car_0['x_position'] += 9\n",
    "elif car_0['speed'] == 'fast':\n",
    "    car_0['x_position'] += 22\n",
    "print(car_0)\n"
   ]
  },
  {
   "cell_type": "markdown",
   "id": "bc63c9f8-6050-4492-9d33-3d288ba1be12",
   "metadata": {},
   "source": [
    "Q6. Show a basic implementation of abstraction in python using the abstract classes.\r\n",
    "1. Create an abstract class in python.\r\n",
    "2. Implement abstraction with the other classes and base class as abstract class."
   ]
  },
  {
   "cell_type": "code",
   "execution_count": null,
   "id": "1846f665-431b-4438-9576-aa56e9dbee8d",
   "metadata": {},
   "outputs": [],
   "source": [
    "from abc import ABC, abstractmethod\n",
    "\n",
    "# Abstract Class\n",
    "class Shape(ABC):\n",
    "    @abstractmethod\n",
    "    def area(self):\n",
    "        pass\n",
    "\n",
    "    @abstractmethod\n",
    "    def perimeter(self):\n",
    "        pass\n",
    "\n",
    "# Subclass implementing abstraction\n",
    "class Rectangle(Shape):\n",
    "    def __init__(self, length, breadth):\n",
    "        self.length = length\n",
    "        self.breadth = breadth\n",
    "\n",
    "    def area(self):\n",
    "        return self.length * self.breadth\n",
    "\n",
    "    def perimeter(self):\n",
    "        return 2 * (self.length + self.breadth)\n",
    "\n",
    "# Example usage\n",
    "#rect = Rectangle(5, 10)\n",
    "#print(f\"Rectangle Area: {rect.area()}\")\n",
    "#print(f\"Rectangle Perimeter: {rect.perimeter()}\")\n"
   ]
  },
  {
   "cell_type": "markdown",
   "id": "0fed1f9b-6e31-47e8-a62b-890428d92dcf",
   "metadata": {},
   "source": [
    "Q7. Create a program in python to demonstrate Polymorphism.\r\n",
    "1. Make use of private and protected members using python name mangling techniques."
   ]
  },
  {
   "cell_type": "code",
   "execution_count": null,
   "id": "895f78a8-d1ff-4427-aa5d-d8f2a958520d",
   "metadata": {},
   "outputs": [],
   "source": [
    "class Vehicle:\n",
    "    def __init__(self, make, model):\n",
    "        self.__make = make  # Private member\n",
    "        self._model = model  # Protected member\n",
    "\n",
    "    def details(self):\n",
    "        return f\"Vehicle: {self.__make} {self._model}\"\n",
    "\n",
    "class Car(Vehicle):\n",
    "    def __init__(self, make, model, doors):\n",
    "        super().__init__(make, model)\n",
    "        self.doors = doors\n",
    "\n",
    "    def details(self):\n",
    "        return f\"Car: {self._model}, Doors: {self.doors}\"\n",
    "\n",
    "# Example usage\n",
    "#vehicle = Vehicle(\"Generic\", \"Model\")\n",
    "#car = Car(\"Toyota\", \"Corolla\", 4)\n",
    "\n",
    "#print(vehicle.details())\n",
    "#print(car.details())\n"
   ]
  },
  {
   "cell_type": "markdown",
   "id": "66476245-8aae-476d-b179-d93f2d0c149e",
   "metadata": {},
   "source": [
    "Q8. Given a list of 50 natural numbers from 1-50. Create a function that will take every element\r\n",
    "from the list and return the square of each element. Use the python map and filter methods to\r\n",
    "implement the function on the given list."
   ]
  },
  {
   "cell_type": "code",
   "execution_count": null,
   "id": "4756cb04-145a-48ab-8abe-8ee1a5a6eb9e",
   "metadata": {},
   "outputs": [],
   "source": [
    "def square_numbers(num):\n",
    "    return num ** 2\n",
    "\n",
    "# List of numbers 1 to 50\n",
    "numbers = list(range(1, 51))\n",
    "\n",
    "# Using filter to get only even numbers\n",
    "even_numbers = list(filter(lambda x: x % 2 == 0, numbers))\n",
    "\n",
    "# Using map to get squares of even numbers\n",
    "squared_even_numbers = list(map(square_numbers, even_numbers))\n",
    "\n",
    "print(\"Even Numbers:\", even_numbers)\n",
    "print(\"Squared Even Numbers:\", squared_even_numbers)\n"
   ]
  },
  {
   "cell_type": "markdown",
   "id": "feca158e-6bc8-4b9e-8052-90f2d5bc53e3",
   "metadata": {},
   "source": [
    "Q9. Create a class, Triangle. Its init() method should take self, angle1, angle2, and angle3 as arguments.\r\n",
    "\r\n",
    "Q10. Create a class variable named number_of_sides and set it equal to 3\r\n",
    "\r\n",
    ". Q11. Create a method named check_angles. The sum of a triangle's three angles should return True if the sum is equal to 180, and False otherwise. The method should print whether the angles belong to a triangle or\r\n",
    "\r\n",
    "not. 11.1 Write methods to verify if the triangle is an acute triangle or obtuse tria\r\n",
    "\r\n",
    "ngle. 11.2 Create an instance of the triangle class and call all the defined me\r\n",
    "\r\n",
    "thods. 11.3 Create three child classes of triangle class - isosceles_triangle, right_triangle and equilateral_t\r\n",
    "\r\n",
    "riangle. 11.4 Define methods which check for their pr"
   ]
  },
  {
   "cell_type": "code",
   "execution_count": null,
   "id": "beaff038-7155-4784-875f-d078aa0f076b",
   "metadata": {},
   "outputs": [],
   "source": [
    "class Triangle:\n",
    "    number_of_sides = 3  # Class variable\n",
    "\n",
    "    def __init__(self, angle1, angle2, angle3):\n",
    "        self.angle1 = angle1\n",
    "        self.angle2 = angle2\n",
    "        self.angle3 = angle3\n",
    "\n",
    "    def check_angles(self):\n",
    "        return self.angle1 + self.angle2 + self.angle3 == 180\n",
    "\n",
    "    def is_acute(self):\n",
    "        return all(angle < 90 for angle in [self.angle1, self.angle2, self.angle3])\n",
    "\n",
    "    def is_obtuse(self):\n",
    "        return any(angle > 90 for angle in [self.angle1, self.angle2, self.angle3])\n",
    "\n",
    "# Child classes\n",
    "class IsoscelesTriangle(Triangle):\n",
    "    def is_isosceles(self):\n",
    "        return len(set([self.angle1, self.angle2, self.angle3])) <= 2\n",
    "\n",
    "class RightTriangle(Triangle):\n",
    "    def is_right(self):\n",
    "        return 90 in [self.angle1, self.angle2, self.angle3]\n",
    "\n",
    "class EquilateralTriangle(Triangle):\n",
    "    def is_equilateral(self):\n",
    "        return self.angle1 == self.angle2 == self.angle3\n",
    "\n",
    "# Example usage\n",
    "#tri = Triangle(60, 60, 60)\n",
    "#print(\"Is Triangle valid?\", tri.check_angles())\n",
    "#print(\"Is Acute Triangle?\", tri.is_acute())\n",
    "\n",
    "#iso = IsoscelesTriangle(90, 45, 45)\n",
    "#print(\"Is Isosceles?\", iso.is_isosceles())\n",
    "\n"
   ]
  },
  {
   "cell_type": "markdown",
   "id": "1a843875-67a6-4338-b229-02b53645fad2",
   "metadata": {},
   "source": [
    "Q12. Create a class isosceles_right_triangle which inherits from isosceles_triangle and\n",
    "right_triangle.\n",
    "\n",
    "\n",
    "12.1 Define methods which check for their properties."
   ]
  },
  {
   "cell_type": "code",
   "execution_count": null,
   "id": "1d0dffb6-c5e4-4482-a2e7-e9d8a5adb40b",
   "metadata": {},
   "outputs": [],
   "source": [
    "class IsoscelesRightTriangle(IsoscelesTriangle, RightTriangle):\n",
    "    def __init__(self, angle1, angle2, angle3):\n",
    "        super().__init__(angle1, angle2, angle3)\n",
    "\n",
    "    def is_isosceles_right(self):\n",
    "        return self.is_isosceles() and self.is_right()\n",
    "\n",
    "# Example usage\n",
    "iso_right = IsoscelesRightTriangle(90, 45, 45)\n",
    "print(\"Is Isosceles Right Triangle?\", iso_right.is_isosceles_right())\n"
   ]
  },
  {
   "cell_type": "code",
   "execution_count": null,
   "id": "4c53f4d8-def3-42c7-8346-e7e1a9724d8f",
   "metadata": {},
   "outputs": [],
   "source": []
  }
 ],
 "metadata": {
  "kernelspec": {
   "display_name": "Python 3 (ipykernel)",
   "language": "python",
   "name": "python3"
  },
  "language_info": {
   "codemirror_mode": {
    "name": "ipython",
    "version": 3
   },
   "file_extension": ".py",
   "mimetype": "text/x-python",
   "name": "python",
   "nbconvert_exporter": "python",
   "pygments_lexer": "ipython3",
   "version": "3.12.4"
  }
 },
 "nbformat": 4,
 "nbformat_minor": 5
}
